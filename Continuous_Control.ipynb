{
 "cells": [
  {
   "cell_type": "markdown",
   "metadata": {},
   "source": [
    "# Continuous Control\n",
    "\n",
    "---\n",
    "\n",
    "You are welcome to use this coding environment to train your agent for the project.  Follow the instructions below to get started!\n",
    "\n",
    "### 1. Start the Environment\n",
    "\n",
    "Run the next code cell to install a few packages.  This line will take a few minutes to run!"
   ]
  },
  {
   "cell_type": "code",
   "execution_count": 1,
   "metadata": {},
   "outputs": [
    {
     "name": "stdout",
     "output_type": "stream",
     "text": [
      "\u001b[31mtensorflow 1.7.1 has requirement numpy>=1.13.3, but you'll have numpy 1.12.1 which is incompatible.\u001b[0m\r\n",
      "\u001b[31mipython 6.5.0 has requirement prompt-toolkit<2.0.0,>=1.0.15, but you'll have prompt-toolkit 3.0.5 which is incompatible.\u001b[0m\r\n"
     ]
    }
   ],
   "source": [
    "!pip -q install ./python"
   ]
  },
  {
   "cell_type": "markdown",
   "metadata": {},
   "source": [
    "The environments corresponding to both versions of the environment are already saved in the Workspace and can be accessed at the file paths provided below.  \n",
    "\n",
    "Please select one of the two options below for loading the environment."
   ]
  },
  {
   "cell_type": "code",
   "execution_count": 2,
   "metadata": {},
   "outputs": [
    {
     "name": "stderr",
     "output_type": "stream",
     "text": [
      "INFO:unityagents:\n",
      "'Academy' started successfully!\n",
      "Unity Academy name: Academy\n",
      "        Number of Brains: 1\n",
      "        Number of External Brains : 1\n",
      "        Lesson number : 0\n",
      "        Reset Parameters :\n",
      "\t\tgoal_size -> 5.0\n",
      "\t\tgoal_speed -> 1.0\n",
      "Unity brain name: ReacherBrain\n",
      "        Number of Visual Observations (per agent): 0\n",
      "        Vector Observation space type: continuous\n",
      "        Vector Observation space size (per agent): 33\n",
      "        Number of stacked Vector Observation: 1\n",
      "        Vector Action space type: continuous\n",
      "        Vector Action space size (per agent): 4\n",
      "        Vector Action descriptions: , , , \n"
     ]
    }
   ],
   "source": [
    "from unityagents import UnityEnvironment\n",
    "import numpy as np\n",
    "\n",
    "# select this option to load version 1 (with a single agent) of the environment\n",
    "# env = UnityEnvironment(file_name='/data/Reacher_One_Linux_NoVis/Reacher_One_Linux_NoVis.x86_64')\n",
    "\n",
    "# select this option to load version 2 (with 20 agents) of the environment\n",
    "env = UnityEnvironment(file_name='/data/Reacher_Linux_NoVis/Reacher.x86_64')"
   ]
  },
  {
   "cell_type": "markdown",
   "metadata": {},
   "source": [
    "Environments contain **_brains_** which are responsible for deciding the actions of their associated agents. Here we check for the first brain available, and set it as the default brain we will be controlling from Python."
   ]
  },
  {
   "cell_type": "code",
   "execution_count": 3,
   "metadata": {},
   "outputs": [],
   "source": [
    "# get the default brain\n",
    "brain_name = env.brain_names[0]\n",
    "brain = env.brains[brain_name]"
   ]
  },
  {
   "cell_type": "markdown",
   "metadata": {},
   "source": [
    "### 2. Examine the State and Action Spaces\n",
    "\n",
    "Run the code cell below to print some information about the environment."
   ]
  },
  {
   "cell_type": "code",
   "execution_count": 4,
   "metadata": {},
   "outputs": [
    {
     "name": "stdout",
     "output_type": "stream",
     "text": [
      "Number of agents: 20\n",
      "Size of each action: 4\n",
      "There are 20 agents. Each observes a state with length: 33\n",
      "The state for the first agent looks like: [  0.00000000e+00  -4.00000000e+00   0.00000000e+00   1.00000000e+00\n",
      "  -0.00000000e+00  -0.00000000e+00  -4.37113883e-08   0.00000000e+00\n",
      "   0.00000000e+00   0.00000000e+00   0.00000000e+00   0.00000000e+00\n",
      "   0.00000000e+00   0.00000000e+00  -1.00000000e+01   0.00000000e+00\n",
      "   1.00000000e+00  -0.00000000e+00  -0.00000000e+00  -4.37113883e-08\n",
      "   0.00000000e+00   0.00000000e+00   0.00000000e+00   0.00000000e+00\n",
      "   0.00000000e+00   0.00000000e+00   5.75471878e+00  -1.00000000e+00\n",
      "   5.55726624e+00   0.00000000e+00   1.00000000e+00   0.00000000e+00\n",
      "  -1.68164849e-01]\n"
     ]
    }
   ],
   "source": [
    "# reset the environment\n",
    "env_info = env.reset(train_mode=True)[brain_name]\n",
    "\n",
    "# number of agents\n",
    "num_agents = len(env_info.agents)\n",
    "print('Number of agents:', num_agents)\n",
    "\n",
    "# size of each action\n",
    "action_size = brain.vector_action_space_size\n",
    "print('Size of each action:', action_size)\n",
    "\n",
    "# examine the state space \n",
    "states = env_info.vector_observations\n",
    "state_size = states.shape[1]\n",
    "print('There are {} agents. Each observes a state with length: {}'.format(states.shape[0], state_size))\n",
    "print('The state for the first agent looks like:', states[0])"
   ]
  },
  {
   "cell_type": "markdown",
   "metadata": {},
   "source": [
    "### 3. Take Random Actions in the Environment\n",
    "\n",
    "In the next code cell, you will learn how to use the Python API to control the agent and receive feedback from the environment.\n",
    "\n",
    "Note that **in this coding environment, you will not be able to watch the agents while they are training**, and you should set `train_mode=True` to restart the environment."
   ]
  },
  {
   "cell_type": "code",
   "execution_count": 5,
   "metadata": {},
   "outputs": [
    {
     "name": "stdout",
     "output_type": "stream",
     "text": [
      "Total score (averaged over agents) this episode: 0.13299999702721835\n"
     ]
    }
   ],
   "source": [
    "env_info = env.reset(train_mode=True)[brain_name]      # reset the environment    \n",
    "states = env_info.vector_observations                  # get the current state (for each agent)\n",
    "scores = np.zeros(num_agents)                          # initialize the score (for each agent)\n",
    "while True:\n",
    "    actions = np.random.randn(num_agents, action_size) # select an action (for each agent)\n",
    "    actions = np.clip(actions, -1, 1)                  # all actions between -1 and 1\n",
    "    env_info = env.step(actions)[brain_name]           # send all actions to tne environment\n",
    "    next_states = env_info.vector_observations         # get next state (for each agent)\n",
    "    rewards = env_info.rewards                         # get reward (for each agent)\n",
    "    dones = env_info.local_done                        # see if episode finished\n",
    "    scores += env_info.rewards                         # update the score (for each agent)\n",
    "    states = next_states                               # roll over states to next time step\n",
    "    if np.any(dones):                                  # exit loop if episode finished\n",
    "        break\n",
    "print('Total score (averaged over agents) this episode: {}'.format(np.mean(scores)))"
   ]
  },
  {
   "cell_type": "markdown",
   "metadata": {},
   "source": [
    "When finished, you can close the environment."
   ]
  },
  {
   "cell_type": "code",
   "execution_count": 6,
   "metadata": {},
   "outputs": [],
   "source": [
    "# env.close()"
   ]
  },
  {
   "cell_type": "markdown",
   "metadata": {},
   "source": [
    "### 4. It's Your Turn!\n",
    "\n",
    "Now it's your turn to train your own agent to solve the environment!  A few **important notes**:\n",
    "- When training the environment, set `train_mode=True`, so that the line for resetting the environment looks like the following:\n",
    "```python\n",
    "env_info = env.reset(train_mode=True)[brain_name]\n",
    "```\n",
    "- To structure your work, you're welcome to work directly in this Jupyter notebook, or you might like to start over with a new file!  You can see the list of files in the workspace by clicking on **_Jupyter_** in the top left corner of the notebook.\n",
    "- In this coding environment, you will not be able to watch the agents while they are training.  However, **_after training the agents_**, you can download the saved model weights to watch the agents on your own machine! "
   ]
  },
  {
   "cell_type": "code",
   "execution_count": 7,
   "metadata": {},
   "outputs": [],
   "source": [
    "import matplotlib.pyplot as plt\n",
    "import random\n",
    "import time\n",
    "from collections import deque\n",
    "import torch\n",
    "\n",
    "from Agent import Agent\n",
    "%matplotlib inline"
   ]
  },
  {
   "cell_type": "code",
   "execution_count": 8,
   "metadata": {},
   "outputs": [],
   "source": [
    "#<----------- Hyperparameters ------------->\n",
    "MAX_T          = 1000\n",
    "SOLVED_SCORE   = 30.0\n",
    "CONSEC_EPISODE = 100\n",
    "PRINT_EVERY    = 1\n",
    "TRAIN_MODE     = True\n",
    "ACTOR_PATH     = 'actor_pt.pth'\n",
    "CRITIC_PATH    = 'critic_Pt.pth'"
   ]
  },
  {
   "cell_type": "code",
   "execution_count": 9,
   "metadata": {},
   "outputs": [],
   "source": [
    "# <----------------------------------- DDPG Agent Function -------------------------------->\n",
    "\n",
    "def ddpg_agent(n_episodes=500, max_t=MAX_T, solved_score=SOLVED_SCORE, consec_episodes=CONSEC_EPISODE,\n",
    "               print_every=PRINT_EVERY, train_mode=TRAIN_MODE, actor_path=ACTOR_PATH, critic_path=CRITIC_PATH):\n",
    "    \n",
    "    \"\"\"Deep Deterministic Policy Gradient (DDPG)\n",
    "    \n",
    "    Parameters\n",
    "    ----------------------------------------------------------------\n",
    "        n_episodes (int)      : maximum number of training episodes\n",
    "        max_t (int)           : maximum number of timesteps per episode\n",
    "        train_mode (bool)     : if 'True' set environment to training mode\n",
    "        solved_score (float)  : min avg score over consecutive episodes\n",
    "        consec_episodes (int) : number of consecutive episodes used to calculate score\n",
    "        print_every (int)     : interval to display results\n",
    "        actor_path (str)      : directory to store actor network weights\n",
    "        critic_path (str)     : directory to store critic network weights\n",
    "    ---------------------------------------------------------------------\n",
    "\n",
    "    \"\"\"\n",
    "    \n",
    "    # lowest scores from each episode\n",
    "    min_scores = []\n",
    "    # highest scores from each episode\n",
    "    max_scores = [] \n",
    "    # scores from each episode\n",
    "    mean_scores = []                               \n",
    "    best_score = -np.inf\n",
    "    \n",
    "    # mean scores from most recent episodes\n",
    "    scores_window = deque(maxlen=consec_episodes)  \n",
    "    # moving averages\n",
    "    moving_avgs = []                               \n",
    "    \n",
    "    for i_episode in range(1, n_episodes+1):\n",
    "        # reset environment\n",
    "        env_info = env.reset(train_mode=train_mode)[brain_name] \n",
    "        # get current state for each agent\n",
    "        states = env_info.vector_observations     \n",
    "        # initialize score for each agent\n",
    "        scores = np.zeros(num_agents)                          \n",
    "        agent.reset()\n",
    "        start_time = time.time()\n",
    "        for t in range(max_t):\n",
    "            # select an action\n",
    "            actions = agent.act(states, add_noise=True)  \n",
    "            # send actions to environment\n",
    "            env_info = env.step(actions)[brain_name]  \n",
    "            # get next state\n",
    "            next_states = env_info.vector_observations   \n",
    "            # get reward\n",
    "            rewards = env_info.rewards                         \n",
    "            # check if episode has finished\n",
    "            dones = env_info.local_done                        \n",
    "            # save experience to replay buffer, perform learning step at defined interval\n",
    "            for state, action, reward, next_state, done in zip(states, actions, rewards, next_states, dones):\n",
    "                agent.step(state, action, reward, next_state, done, t)             \n",
    "            states = next_states\n",
    "            scores += rewards        \n",
    "            # exit the loop when episode ends\n",
    "            if np.any(dones):                                   \n",
    "                break\n",
    "\n",
    "        duration = time.time() - start_time\n",
    "        # save lowest score for a single agent\n",
    "        min_scores.append(np.min(scores))             \n",
    "        # save highest score for a single agent\n",
    "        max_scores.append(np.max(scores))             \n",
    "        # save mean score for the episode\n",
    "        mean_scores.append(np.mean(scores))           \n",
    "        # save mean score to window\n",
    "        scores_window.append(mean_scores[-1])         \n",
    "        # save moving average\n",
    "        moving_avgs.append(np.mean(scores_window))    \n",
    "        \n",
    "                \n",
    "        if i_episode % print_every == 0:\n",
    "            print('\\rEpisode {} ({} sec)  -- \\tMin: {:.1f}\\tMax: {:.1f}\\tMean: {:.1f}\\tMov. Avg: {:.1f}'.format(\\\n",
    "                  i_episode, round(duration), min_scores[-1], max_scores[-1], mean_scores[-1], moving_avgs[-1]))\n",
    "        \n",
    "        if train_mode and mean_scores[-1] > best_score:\n",
    "            torch.save(agent.actor_local.state_dict(), actor_path)\n",
    "            torch.save(agent.critic_local.state_dict(), critic_path)\n",
    "                  \n",
    "        if moving_avgs[-1] >= solved_score and i_episode >= consec_episodes:\n",
    "            print('\\nEnvironment SOLVED in {} episodes!\\tMoving Average ={:.1f} over last {} episodes'.format(\\\n",
    "                                    i_episode-consec_episodes, moving_avgs[-1], consec_episodes))            \n",
    "            if train_mode:\n",
    "                torch.save(agent.actor_local.state_dict(), actor_path)\n",
    "                torch.save(agent.critic_local.state_dict(), critic_path)  \n",
    "            break\n",
    "            \n",
    "    return mean_scores, moving_avgs"
   ]
  },
  {
   "cell_type": "code",
   "execution_count": 10,
   "metadata": {},
   "outputs": [
    {
     "name": "stdout",
     "output_type": "stream",
     "text": [
      "Episode 1 (122 sec)  -- \tMin: 0.0\tMax: 1.7\tMean: 0.7\tMov. Avg: 0.7\n",
      "Episode 2 (127 sec)  -- \tMin: 0.6\tMax: 2.9\tMean: 1.5\tMov. Avg: 1.1\n",
      "Episode 3 (127 sec)  -- \tMin: 1.2\tMax: 4.0\tMean: 2.6\tMov. Avg: 1.6\n",
      "Episode 4 (128 sec)  -- \tMin: 1.3\tMax: 5.0\tMean: 2.8\tMov. Avg: 1.9\n",
      "Episode 5 (129 sec)  -- \tMin: 1.7\tMax: 4.7\tMean: 2.9\tMov. Avg: 2.1\n",
      "Episode 6 (129 sec)  -- \tMin: 1.6\tMax: 5.4\tMean: 3.3\tMov. Avg: 2.3\n",
      "Episode 7 (131 sec)  -- \tMin: 1.4\tMax: 7.2\tMean: 4.0\tMov. Avg: 2.6\n",
      "Episode 8 (131 sec)  -- \tMin: 2.3\tMax: 6.8\tMean: 5.1\tMov. Avg: 2.9\n",
      "Episode 9 (132 sec)  -- \tMin: 3.5\tMax: 9.4\tMean: 5.6\tMov. Avg: 3.2\n",
      "Episode 10 (133 sec)  -- \tMin: 2.7\tMax: 9.0\tMean: 5.5\tMov. Avg: 3.4\n",
      "Episode 11 (134 sec)  -- \tMin: 4.3\tMax: 8.9\tMean: 6.8\tMov. Avg: 3.7\n",
      "Episode 12 (135 sec)  -- \tMin: 1.9\tMax: 12.1\tMean: 6.7\tMov. Avg: 4.0\n",
      "Episode 13 (137 sec)  -- \tMin: 4.7\tMax: 11.9\tMean: 8.1\tMov. Avg: 4.3\n",
      "Episode 14 (139 sec)  -- \tMin: 6.5\tMax: 15.0\tMean: 10.1\tMov. Avg: 4.7\n",
      "Episode 15 (140 sec)  -- \tMin: 6.9\tMax: 16.3\tMean: 10.4\tMov. Avg: 5.1\n",
      "Episode 16 (142 sec)  -- \tMin: 8.7\tMax: 14.8\tMean: 12.1\tMov. Avg: 5.5\n",
      "Episode 17 (144 sec)  -- \tMin: 4.8\tMax: 15.7\tMean: 12.2\tMov. Avg: 5.9\n",
      "Episode 18 (147 sec)  -- \tMin: 10.0\tMax: 22.2\tMean: 15.4\tMov. Avg: 6.4\n",
      "Episode 19 (149 sec)  -- \tMin: 9.8\tMax: 19.0\tMean: 14.1\tMov. Avg: 6.9\n",
      "Episode 20 (151 sec)  -- \tMin: 11.3\tMax: 22.1\tMean: 16.3\tMov. Avg: 7.3\n",
      "Episode 21 (153 sec)  -- \tMin: 9.1\tMax: 21.0\tMean: 15.9\tMov. Avg: 7.7\n",
      "Episode 22 (156 sec)  -- \tMin: 12.7\tMax: 21.3\tMean: 16.6\tMov. Avg: 8.1\n",
      "Episode 23 (158 sec)  -- \tMin: 10.7\tMax: 22.1\tMean: 16.9\tMov. Avg: 8.5\n",
      "Episode 24 (160 sec)  -- \tMin: 8.9\tMax: 24.6\tMean: 18.1\tMov. Avg: 8.9\n",
      "Episode 25 (163 sec)  -- \tMin: 14.5\tMax: 24.4\tMean: 20.1\tMov. Avg: 9.4\n",
      "Episode 26 (166 sec)  -- \tMin: 14.7\tMax: 26.7\tMean: 21.1\tMov. Avg: 9.8\n",
      "Episode 27 (168 sec)  -- \tMin: 15.7\tMax: 26.1\tMean: 20.6\tMov. Avg: 10.2\n",
      "Episode 28 (171 sec)  -- \tMin: 19.5\tMax: 27.6\tMean: 23.0\tMov. Avg: 10.7\n",
      "Episode 29 (174 sec)  -- \tMin: 16.2\tMax: 28.7\tMean: 20.4\tMov. Avg: 11.0\n",
      "Episode 30 (177 sec)  -- \tMin: 17.3\tMax: 28.3\tMean: 23.2\tMov. Avg: 11.4\n",
      "Episode 31 (179 sec)  -- \tMin: 18.2\tMax: 37.6\tMean: 25.1\tMov. Avg: 11.9\n",
      "Episode 32 (182 sec)  -- \tMin: 19.8\tMax: 30.8\tMean: 25.9\tMov. Avg: 12.3\n",
      "Episode 33 (184 sec)  -- \tMin: 17.7\tMax: 33.8\tMean: 26.8\tMov. Avg: 12.7\n",
      "Episode 34 (187 sec)  -- \tMin: 22.2\tMax: 33.6\tMean: 27.5\tMov. Avg: 13.2\n",
      "Episode 35 (190 sec)  -- \tMin: 23.1\tMax: 31.9\tMean: 27.6\tMov. Avg: 13.6\n",
      "Episode 36 (192 sec)  -- \tMin: 18.8\tMax: 33.4\tMean: 28.2\tMov. Avg: 14.0\n",
      "Episode 37 (195 sec)  -- \tMin: 24.8\tMax: 36.9\tMean: 29.8\tMov. Avg: 14.4\n",
      "Episode 38 (198 sec)  -- \tMin: 24.7\tMax: 34.6\tMean: 28.8\tMov. Avg: 14.8\n",
      "Episode 39 (200 sec)  -- \tMin: 20.9\tMax: 38.1\tMean: 29.3\tMov. Avg: 15.2\n",
      "Episode 40 (201 sec)  -- \tMin: 23.1\tMax: 36.1\tMean: 30.2\tMov. Avg: 15.5\n",
      "Episode 41 (206 sec)  -- \tMin: 21.0\tMax: 39.5\tMean: 30.9\tMov. Avg: 15.9\n",
      "Episode 42 (208 sec)  -- \tMin: 24.2\tMax: 37.4\tMean: 33.0\tMov. Avg: 16.3\n",
      "Episode 43 (210 sec)  -- \tMin: 29.1\tMax: 39.2\tMean: 33.4\tMov. Avg: 16.7\n",
      "Episode 44 (214 sec)  -- \tMin: 29.3\tMax: 37.7\tMean: 33.8\tMov. Avg: 17.1\n",
      "Episode 45 (215 sec)  -- \tMin: 30.2\tMax: 37.7\tMean: 34.7\tMov. Avg: 17.5\n",
      "Episode 46 (219 sec)  -- \tMin: 32.2\tMax: 39.4\tMean: 35.6\tMov. Avg: 17.9\n",
      "Episode 47 (221 sec)  -- \tMin: 29.8\tMax: 38.9\tMean: 35.1\tMov. Avg: 18.3\n",
      "Episode 48 (223 sec)  -- \tMin: 33.6\tMax: 39.5\tMean: 37.0\tMov. Avg: 18.6\n",
      "Episode 49 (226 sec)  -- \tMin: 32.5\tMax: 39.5\tMean: 36.8\tMov. Avg: 19.0\n",
      "Episode 50 (228 sec)  -- \tMin: 32.8\tMax: 39.5\tMean: 37.9\tMov. Avg: 19.4\n",
      "Episode 51 (230 sec)  -- \tMin: 27.8\tMax: 39.5\tMean: 37.9\tMov. Avg: 19.8\n",
      "Episode 52 (231 sec)  -- \tMin: 36.2\tMax: 39.5\tMean: 38.6\tMov. Avg: 20.1\n",
      "Episode 53 (230 sec)  -- \tMin: 37.4\tMax: 39.5\tMean: 38.8\tMov. Avg: 20.5\n",
      "Episode 54 (229 sec)  -- \tMin: 35.8\tMax: 39.6\tMean: 38.8\tMov. Avg: 20.8\n",
      "Episode 55 (230 sec)  -- \tMin: 34.9\tMax: 39.6\tMean: 38.6\tMov. Avg: 21.1\n",
      "Episode 56 (230 sec)  -- \tMin: 38.1\tMax: 39.5\tMean: 38.9\tMov. Avg: 21.5\n",
      "Episode 57 (230 sec)  -- \tMin: 38.6\tMax: 39.6\tMean: 39.3\tMov. Avg: 21.8\n",
      "Episode 58 (230 sec)  -- \tMin: 38.2\tMax: 39.6\tMean: 39.3\tMov. Avg: 22.1\n",
      "Episode 59 (229 sec)  -- \tMin: 38.4\tMax: 39.6\tMean: 39.2\tMov. Avg: 22.4\n",
      "Episode 60 (230 sec)  -- \tMin: 38.2\tMax: 39.5\tMean: 39.2\tMov. Avg: 22.6\n",
      "Episode 61 (229 sec)  -- \tMin: 38.7\tMax: 39.6\tMean: 39.3\tMov. Avg: 22.9\n",
      "Episode 62 (229 sec)  -- \tMin: 37.8\tMax: 39.6\tMean: 39.2\tMov. Avg: 23.2\n",
      "Episode 63 (229 sec)  -- \tMin: 38.0\tMax: 39.6\tMean: 39.2\tMov. Avg: 23.4\n",
      "Episode 64 (229 sec)  -- \tMin: 38.7\tMax: 39.6\tMean: 39.4\tMov. Avg: 23.7\n",
      "Episode 65 (228 sec)  -- \tMin: 38.7\tMax: 39.6\tMean: 39.4\tMov. Avg: 23.9\n",
      "Episode 66 (228 sec)  -- \tMin: 36.6\tMax: 39.6\tMean: 39.1\tMov. Avg: 24.2\n",
      "Episode 67 (228 sec)  -- \tMin: 37.9\tMax: 39.6\tMean: 39.3\tMov. Avg: 24.4\n",
      "Episode 68 (228 sec)  -- \tMin: 37.1\tMax: 39.6\tMean: 39.0\tMov. Avg: 24.6\n",
      "Episode 69 (228 sec)  -- \tMin: 37.4\tMax: 39.6\tMean: 39.1\tMov. Avg: 24.8\n",
      "Episode 70 (227 sec)  -- \tMin: 35.3\tMax: 39.6\tMean: 38.6\tMov. Avg: 25.0\n",
      "Episode 71 (228 sec)  -- \tMin: 34.0\tMax: 39.7\tMean: 38.3\tMov. Avg: 25.2\n",
      "Episode 72 (227 sec)  -- \tMin: 36.3\tMax: 39.7\tMean: 38.7\tMov. Avg: 25.4\n",
      "Episode 73 (228 sec)  -- \tMin: 33.0\tMax: 39.6\tMean: 38.2\tMov. Avg: 25.6\n",
      "Episode 74 (229 sec)  -- \tMin: 37.5\tMax: 39.6\tMean: 39.0\tMov. Avg: 25.7\n",
      "Episode 75 (229 sec)  -- \tMin: 37.8\tMax: 39.7\tMean: 39.1\tMov. Avg: 25.9\n",
      "Episode 76 (229 sec)  -- \tMin: 36.4\tMax: 39.6\tMean: 38.9\tMov. Avg: 26.1\n",
      "Episode 77 (229 sec)  -- \tMin: 37.1\tMax: 39.5\tMean: 38.7\tMov. Avg: 26.2\n",
      "Episode 78 (229 sec)  -- \tMin: 37.0\tMax: 39.6\tMean: 39.0\tMov. Avg: 26.4\n",
      "Episode 79 (229 sec)  -- \tMin: 38.3\tMax: 39.6\tMean: 39.4\tMov. Avg: 26.6\n",
      "Episode 80 (229 sec)  -- \tMin: 38.1\tMax: 39.6\tMean: 39.1\tMov. Avg: 26.7\n",
      "Episode 81 (229 sec)  -- \tMin: 37.8\tMax: 39.6\tMean: 39.1\tMov. Avg: 26.9\n",
      "Episode 82 (228 sec)  -- \tMin: 35.2\tMax: 39.7\tMean: 38.9\tMov. Avg: 27.0\n",
      "Episode 83 (226 sec)  -- \tMin: 37.8\tMax: 39.6\tMean: 39.2\tMov. Avg: 27.2\n",
      "Episode 84 (227 sec)  -- \tMin: 36.8\tMax: 39.6\tMean: 39.0\tMov. Avg: 27.3\n",
      "Episode 85 (226 sec)  -- \tMin: 37.4\tMax: 39.7\tMean: 38.9\tMov. Avg: 27.5\n",
      "Episode 86 (223 sec)  -- \tMin: 37.6\tMax: 39.7\tMean: 39.0\tMov. Avg: 27.6\n",
      "Episode 87 (226 sec)  -- \tMin: 35.2\tMax: 39.4\tMean: 37.7\tMov. Avg: 27.7\n",
      "Episode 88 (225 sec)  -- \tMin: 32.8\tMax: 39.3\tMean: 37.7\tMov. Avg: 27.8\n",
      "Episode 89 (225 sec)  -- \tMin: 34.6\tMax: 39.1\tMean: 37.6\tMov. Avg: 27.9\n",
      "Episode 90 (226 sec)  -- \tMin: 36.1\tMax: 39.7\tMean: 38.4\tMov. Avg: 28.0\n",
      "Episode 91 (225 sec)  -- \tMin: 35.1\tMax: 39.6\tMean: 37.9\tMov. Avg: 28.2\n",
      "Episode 92 (226 sec)  -- \tMin: 34.4\tMax: 39.6\tMean: 37.8\tMov. Avg: 28.3\n",
      "Episode 93 (226 sec)  -- \tMin: 36.0\tMax: 39.6\tMean: 38.2\tMov. Avg: 28.4\n",
      "Episode 94 (225 sec)  -- \tMin: 35.7\tMax: 39.5\tMean: 38.2\tMov. Avg: 28.5\n",
      "Episode 95 (226 sec)  -- \tMin: 35.5\tMax: 39.6\tMean: 37.9\tMov. Avg: 28.6\n",
      "Episode 96 (227 sec)  -- \tMin: 29.1\tMax: 39.5\tMean: 37.3\tMov. Avg: 28.7\n",
      "Episode 97 (227 sec)  -- \tMin: 38.1\tMax: 39.7\tMean: 39.2\tMov. Avg: 28.8\n",
      "Episode 98 (228 sec)  -- \tMin: 37.6\tMax: 39.6\tMean: 39.1\tMov. Avg: 28.9\n",
      "Episode 99 (227 sec)  -- \tMin: 36.2\tMax: 39.6\tMean: 38.8\tMov. Avg: 29.0\n",
      "Episode 100 (227 sec)  -- \tMin: 35.7\tMax: 39.3\tMean: 38.0\tMov. Avg: 29.1\n",
      "Episode 101 (227 sec)  -- \tMin: 37.5\tMax: 39.6\tMean: 39.0\tMov. Avg: 29.4\n",
      "Episode 102 (227 sec)  -- \tMin: 36.2\tMax: 39.6\tMean: 38.4\tMov. Avg: 29.8\n",
      "Episode 103 (227 sec)  -- \tMin: 35.0\tMax: 39.1\tMean: 37.5\tMov. Avg: 30.2\n",
      "\n",
      "Environment SOLVED in 3 episodes!\tMoving Average =30.2 over last 100 episodes\n"
     ]
    }
   ],
   "source": [
    "# <---------------- run the training loop ------------------->\n",
    "agent = Agent(state_size=state_size, action_size=action_size, random_seed=42)\n",
    "scores, avgs = ddpg_agent()"
   ]
  },
  {
   "cell_type": "code",
   "execution_count": 11,
   "metadata": {},
   "outputs": [
    {
     "data": {
      "image/png": "[encoded data removed]",
      "text/plain": [
       "<matplotlib.figure.Figure at 0x7f2857800828>"
      ]
     },
     "metadata": {
      "needs_background": "light"
     },
     "output_type": "display_data"
    }
   ],
   "source": [
    "# <--------------------- plot the scores ---------------------------->\n",
    "\n",
    "figure = plt.figure()\n",
    "axes = figure.add_subplot(111)\n",
    "plt.plot(np.arange(len(scores)), scores, label='DDPG_Agent')\n",
    "plt.plot(np.arange(len(scores)), avgs, c='r', label='Moving Average')\n",
    "plt.ylabel('Score')\n",
    "plt.xlabel('Episode #')\n",
    "plt.legend(loc='upper left');\n",
    "plt.show()"
   ]
  },
  {
   "cell_type": "code",
   "execution_count": 12,
   "metadata": {},
   "outputs": [],
   "source": [
    "env.close()"
   ]
  },
  {
   "cell_type": "code",
   "execution_count": null,
   "metadata": {},
   "outputs": [],
   "source": []
  }
 ],
 "metadata": {
  "kernelspec": {
   "display_name": "Python 3",
   "language": "python",
   "name": "python3"
  },
  "language_info": {
   "codemirror_mode": {
    "name": "ipython",
    "version": 3
   },
   "file_extension": ".py",
   "mimetype": "text/x-python",
   "name": "python",
   "nbconvert_exporter": "python",
   "pygments_lexer": "ipython3",
   "version": "3.6.3"
  }
 },
 "nbformat": 4,
 "nbformat_minor": 2
}
